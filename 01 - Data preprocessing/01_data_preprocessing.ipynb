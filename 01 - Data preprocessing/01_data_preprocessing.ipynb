{
 "cells": [
  {
   "cell_type": "markdown",
   "id": "e007d946",
   "metadata": {},
   "source": [
    "### Importar librerías"
   ]
  },
  {
   "cell_type": "code",
   "execution_count": 1,
   "id": "a96a5256",
   "metadata": {},
   "outputs": [],
   "source": [
    "import pandas as pd\n",
    "import numpy as np\n",
    "import matplotlib.pyplot as plt"
   ]
  },
  {
   "cell_type": "markdown",
   "id": "9f9a45cc",
   "metadata": {},
   "source": [
    "### Importar dataset"
   ]
  },
  {
   "cell_type": "code",
   "execution_count": 2,
   "id": "9d446c21",
   "metadata": {},
   "outputs": [
    {
     "name": "stdout",
     "output_type": "stream",
     "text": [
      "Index(['Country', 'Age', 'Salary', 'Purchased'], dtype='object')\n"
     ]
    },
    {
     "data": {
      "text/html": [
       "<div>\n",
       "<style scoped>\n",
       "    .dataframe tbody tr th:only-of-type {\n",
       "        vertical-align: middle;\n",
       "    }\n",
       "\n",
       "    .dataframe tbody tr th {\n",
       "        vertical-align: top;\n",
       "    }\n",
       "\n",
       "    .dataframe thead th {\n",
       "        text-align: right;\n",
       "    }\n",
       "</style>\n",
       "<table border=\"1\" class=\"dataframe\">\n",
       "  <thead>\n",
       "    <tr style=\"text-align: right;\">\n",
       "      <th></th>\n",
       "      <th>Country</th>\n",
       "      <th>Age</th>\n",
       "      <th>Salary</th>\n",
       "      <th>Purchased</th>\n",
       "    </tr>\n",
       "  </thead>\n",
       "  <tbody>\n",
       "    <tr>\n",
       "      <th>0</th>\n",
       "      <td>France</td>\n",
       "      <td>44.0</td>\n",
       "      <td>72000.0</td>\n",
       "      <td>No</td>\n",
       "    </tr>\n",
       "    <tr>\n",
       "      <th>1</th>\n",
       "      <td>Spain</td>\n",
       "      <td>27.0</td>\n",
       "      <td>48000.0</td>\n",
       "      <td>Yes</td>\n",
       "    </tr>\n",
       "    <tr>\n",
       "      <th>2</th>\n",
       "      <td>Germany</td>\n",
       "      <td>30.0</td>\n",
       "      <td>54000.0</td>\n",
       "      <td>No</td>\n",
       "    </tr>\n",
       "    <tr>\n",
       "      <th>3</th>\n",
       "      <td>Spain</td>\n",
       "      <td>38.0</td>\n",
       "      <td>61000.0</td>\n",
       "      <td>No</td>\n",
       "    </tr>\n",
       "    <tr>\n",
       "      <th>4</th>\n",
       "      <td>Germany</td>\n",
       "      <td>40.0</td>\n",
       "      <td>NaN</td>\n",
       "      <td>Yes</td>\n",
       "    </tr>\n",
       "    <tr>\n",
       "      <th>5</th>\n",
       "      <td>France</td>\n",
       "      <td>35.0</td>\n",
       "      <td>58000.0</td>\n",
       "      <td>Yes</td>\n",
       "    </tr>\n",
       "    <tr>\n",
       "      <th>6</th>\n",
       "      <td>Spain</td>\n",
       "      <td>NaN</td>\n",
       "      <td>52000.0</td>\n",
       "      <td>No</td>\n",
       "    </tr>\n",
       "    <tr>\n",
       "      <th>7</th>\n",
       "      <td>France</td>\n",
       "      <td>48.0</td>\n",
       "      <td>79000.0</td>\n",
       "      <td>Yes</td>\n",
       "    </tr>\n",
       "    <tr>\n",
       "      <th>8</th>\n",
       "      <td>Germany</td>\n",
       "      <td>50.0</td>\n",
       "      <td>83000.0</td>\n",
       "      <td>No</td>\n",
       "    </tr>\n",
       "    <tr>\n",
       "      <th>9</th>\n",
       "      <td>France</td>\n",
       "      <td>37.0</td>\n",
       "      <td>67000.0</td>\n",
       "      <td>Yes</td>\n",
       "    </tr>\n",
       "  </tbody>\n",
       "</table>\n",
       "</div>"
      ],
      "text/plain": [
       "   Country   Age   Salary Purchased\n",
       "0   France  44.0  72000.0        No\n",
       "1    Spain  27.0  48000.0       Yes\n",
       "2  Germany  30.0  54000.0        No\n",
       "3    Spain  38.0  61000.0        No\n",
       "4  Germany  40.0      NaN       Yes\n",
       "5   France  35.0  58000.0       Yes\n",
       "6    Spain   NaN  52000.0        No\n",
       "7   France  48.0  79000.0       Yes\n",
       "8  Germany  50.0  83000.0        No\n",
       "9   France  37.0  67000.0       Yes"
      ]
     },
     "execution_count": 2,
     "metadata": {},
     "output_type": "execute_result"
    }
   ],
   "source": [
    "df = pd.read_csv('data.csv')\n",
    "print(df.columns)\n",
    "df"
   ]
  },
  {
   "cell_type": "markdown",
   "id": "cca04b69",
   "metadata": {},
   "source": [
    "### Definir las variables independientes y dependientes"
   ]
  },
  {
   "cell_type": "code",
   "execution_count": 3,
   "id": "4ed7b11b",
   "metadata": {},
   "outputs": [
    {
     "name": "stdout",
     "output_type": "stream",
     "text": [
      "(10, 3) (10,)\n"
     ]
    }
   ],
   "source": [
    "# Use iloc to select the rows and columns by index and get the values as a numpy array\n",
    "X = df.iloc[:, :-1].values # all rows (:), all columns except the last one (:-1)\n",
    "y = df.iloc[:, -1].values # all rows (:), last column (-1) or (3) because there are 4 columns in total\n",
    "print(X.shape, y.shape)"
   ]
  },
  {
   "cell_type": "markdown",
   "id": "9d8b8b8a",
   "metadata": {},
   "source": [
    "### Tratar valores nulos\n",
    "\n",
    "Se pueden tomar diferentes estrategias para manejar esta situación:\n",
    "1. Eliminar las filas en las que se encuentran datos vacios. Una opción muy drástica y poco usada puesto que, al menos de que la fila venga vacía o casi, aún así aporta algo de información util para lo que estamos estudiando.\n",
    "2. Sustituir los valores vacíos por medidas de localización de los datos, como la media, moda o mediana de la fila. Es la más usada y la que aprenderemos a hacer."
   ]
  },
  {
   "cell_type": "code",
   "execution_count": 4,
   "id": "b87cc5c9",
   "metadata": {},
   "outputs": [
    {
     "name": "stdout",
     "output_type": "stream",
     "text": [
      "Missing values in {1: 'Age', 2: 'Salary'}\n"
     ]
    },
    {
     "data": {
      "text/html": [
       "<div>\n",
       "<style scoped>\n",
       "    .dataframe tbody tr th:only-of-type {\n",
       "        vertical-align: middle;\n",
       "    }\n",
       "\n",
       "    .dataframe tbody tr th {\n",
       "        vertical-align: top;\n",
       "    }\n",
       "\n",
       "    .dataframe thead th {\n",
       "        text-align: right;\n",
       "    }\n",
       "</style>\n",
       "<table border=\"1\" class=\"dataframe\">\n",
       "  <thead>\n",
       "    <tr style=\"text-align: right;\">\n",
       "      <th></th>\n",
       "      <th>0</th>\n",
       "      <th>1</th>\n",
       "      <th>2</th>\n",
       "    </tr>\n",
       "  </thead>\n",
       "  <tbody>\n",
       "    <tr>\n",
       "      <th>0</th>\n",
       "      <td>France</td>\n",
       "      <td>44.0</td>\n",
       "      <td>72000.0</td>\n",
       "    </tr>\n",
       "    <tr>\n",
       "      <th>1</th>\n",
       "      <td>Spain</td>\n",
       "      <td>27.0</td>\n",
       "      <td>48000.0</td>\n",
       "    </tr>\n",
       "    <tr>\n",
       "      <th>2</th>\n",
       "      <td>Germany</td>\n",
       "      <td>30.0</td>\n",
       "      <td>54000.0</td>\n",
       "    </tr>\n",
       "    <tr>\n",
       "      <th>3</th>\n",
       "      <td>Spain</td>\n",
       "      <td>38.0</td>\n",
       "      <td>61000.0</td>\n",
       "    </tr>\n",
       "    <tr>\n",
       "      <th>4</th>\n",
       "      <td>Germany</td>\n",
       "      <td>40.0</td>\n",
       "      <td>63777.777778</td>\n",
       "    </tr>\n",
       "    <tr>\n",
       "      <th>5</th>\n",
       "      <td>France</td>\n",
       "      <td>35.0</td>\n",
       "      <td>58000.0</td>\n",
       "    </tr>\n",
       "    <tr>\n",
       "      <th>6</th>\n",
       "      <td>Spain</td>\n",
       "      <td>38.777778</td>\n",
       "      <td>52000.0</td>\n",
       "    </tr>\n",
       "    <tr>\n",
       "      <th>7</th>\n",
       "      <td>France</td>\n",
       "      <td>48.0</td>\n",
       "      <td>79000.0</td>\n",
       "    </tr>\n",
       "    <tr>\n",
       "      <th>8</th>\n",
       "      <td>Germany</td>\n",
       "      <td>50.0</td>\n",
       "      <td>83000.0</td>\n",
       "    </tr>\n",
       "    <tr>\n",
       "      <th>9</th>\n",
       "      <td>France</td>\n",
       "      <td>37.0</td>\n",
       "      <td>67000.0</td>\n",
       "    </tr>\n",
       "  </tbody>\n",
       "</table>\n",
       "</div>"
      ],
      "text/plain": [
       "         0          1             2\n",
       "0   France       44.0       72000.0\n",
       "1    Spain       27.0       48000.0\n",
       "2  Germany       30.0       54000.0\n",
       "3    Spain       38.0       61000.0\n",
       "4  Germany       40.0  63777.777778\n",
       "5   France       35.0       58000.0\n",
       "6    Spain  38.777778       52000.0\n",
       "7   France       48.0       79000.0\n",
       "8  Germany       50.0       83000.0\n",
       "9   France       37.0       67000.0"
      ]
     },
     "execution_count": 4,
     "metadata": {},
     "output_type": "execute_result"
    }
   ],
   "source": [
    "from sklearn.impute import SimpleImputer\n",
    "\n",
    "# Verify if the data is clean and does not contain any null values\n",
    "if df.isnull().values.any():\n",
    "    nan_columns = df.isnull().any()\n",
    "    nan_columns = {int(i) : col for i,col in zip(np.where(nan_columns)[0], df.columns[nan_columns].tolist())}\n",
    "    print(f'Missing values in {nan_columns}')\n",
    "\n",
    "imputer = SimpleImputer(missing_values=np.nan, strategy='mean') # Replace missing values with the mean of the column\n",
    "imputer.fit(X[:, 1:3]) # Fit the imputer on the columns with missing values (1:3 means columns 1 and 2)\n",
    "X[:, 1:3] = imputer.transform(X[:, 1:3]) # Transform the data and replace the missing values with the mean\n",
    "\n",
    "pd.DataFrame(X)\n"
   ]
  },
  {
   "cell_type": "markdown",
   "id": "5dfb1c2a",
   "metadata": {},
   "source": [
    "### Tratar con datos categoricos\n",
    "\n",
    "Se hace cuando una determinada columna no contiene números, sino que tiene etiquetas o categorias de la fila en cuestion. Estas columnas se tratan de una manera en la que se pueda operar con ellas, es decir: codificandolas.\n",
    "\n",
    "Para la primera columna (Country), en la que tenemos más de 2 categorias, usaremos la codificación **OneHot**, que lo que hace es separar dicha columna en n columnas (donde n es el numero de categorias en la columna) binarias en las que se pone un 1 si la columna correspondiente es la categoría de esa fila, un 0 en caso contrario. A esto también se le conoce como **variable dummy.**"
   ]
  },
  {
   "cell_type": "code",
   "execution_count": 40,
   "id": "77451747",
   "metadata": {},
   "outputs": [
    {
     "data": {
      "application/vnd.microsoft.datawrangler.viewer.v0+json": {
       "columns": [
        {
         "name": "index",
         "rawType": "int64",
         "type": "integer"
        },
        {
         "name": "0",
         "rawType": "object",
         "type": "unknown"
        },
        {
         "name": "1",
         "rawType": "object",
         "type": "unknown"
        },
        {
         "name": "2",
         "rawType": "object",
         "type": "unknown"
        },
        {
         "name": "3",
         "rawType": "object",
         "type": "unknown"
        },
        {
         "name": "4",
         "rawType": "object",
         "type": "unknown"
        },
        {
         "name": "5",
         "rawType": "object",
         "type": "unknown"
        }
       ],
       "conversionMethod": "pd.DataFrame",
       "ref": "56754c47-588c-4ebd-a9dc-a55f7ea0a522",
       "rows": [
        [
         "0",
         "0.0",
         "1.0",
         "0.0",
         "0.0",
         "44.0",
         "72000.0"
        ],
        [
         "1",
         "1.0",
         "0.0",
         "0.0",
         "1.0",
         "27.0",
         "48000.0"
        ],
        [
         "2",
         "1.0",
         "0.0",
         "1.0",
         "0.0",
         "30.0",
         "54000.0"
        ],
        [
         "3",
         "1.0",
         "0.0",
         "0.0",
         "1.0",
         "38.0",
         "61000.0"
        ],
        [
         "4",
         "1.0",
         "0.0",
         "1.0",
         "0.0",
         "40.0",
         "63777.77777777778"
        ],
        [
         "5",
         "0.0",
         "1.0",
         "0.0",
         "0.0",
         "35.0",
         "58000.0"
        ],
        [
         "6",
         "1.0",
         "0.0",
         "0.0",
         "1.0",
         "38.77777777777778",
         "52000.0"
        ],
        [
         "7",
         "0.0",
         "1.0",
         "0.0",
         "0.0",
         "48.0",
         "79000.0"
        ],
        [
         "8",
         "1.0",
         "0.0",
         "1.0",
         "0.0",
         "50.0",
         "83000.0"
        ],
        [
         "9",
         "0.0",
         "1.0",
         "0.0",
         "0.0",
         "37.0",
         "67000.0"
        ]
       ],
       "shape": {
        "columns": 6,
        "rows": 10
       }
      },
      "text/html": [
       "<div>\n",
       "<style scoped>\n",
       "    .dataframe tbody tr th:only-of-type {\n",
       "        vertical-align: middle;\n",
       "    }\n",
       "\n",
       "    .dataframe tbody tr th {\n",
       "        vertical-align: top;\n",
       "    }\n",
       "\n",
       "    .dataframe thead th {\n",
       "        text-align: right;\n",
       "    }\n",
       "</style>\n",
       "<table border=\"1\" class=\"dataframe\">\n",
       "  <thead>\n",
       "    <tr style=\"text-align: right;\">\n",
       "      <th></th>\n",
       "      <th>0</th>\n",
       "      <th>1</th>\n",
       "      <th>2</th>\n",
       "      <th>3</th>\n",
       "      <th>4</th>\n",
       "      <th>5</th>\n",
       "    </tr>\n",
       "  </thead>\n",
       "  <tbody>\n",
       "    <tr>\n",
       "      <th>0</th>\n",
       "      <td>0.0</td>\n",
       "      <td>1.0</td>\n",
       "      <td>0.0</td>\n",
       "      <td>0.0</td>\n",
       "      <td>44.0</td>\n",
       "      <td>72000.0</td>\n",
       "    </tr>\n",
       "    <tr>\n",
       "      <th>1</th>\n",
       "      <td>1.0</td>\n",
       "      <td>0.0</td>\n",
       "      <td>0.0</td>\n",
       "      <td>1.0</td>\n",
       "      <td>27.0</td>\n",
       "      <td>48000.0</td>\n",
       "    </tr>\n",
       "    <tr>\n",
       "      <th>2</th>\n",
       "      <td>1.0</td>\n",
       "      <td>0.0</td>\n",
       "      <td>1.0</td>\n",
       "      <td>0.0</td>\n",
       "      <td>30.0</td>\n",
       "      <td>54000.0</td>\n",
       "    </tr>\n",
       "    <tr>\n",
       "      <th>3</th>\n",
       "      <td>1.0</td>\n",
       "      <td>0.0</td>\n",
       "      <td>0.0</td>\n",
       "      <td>1.0</td>\n",
       "      <td>38.0</td>\n",
       "      <td>61000.0</td>\n",
       "    </tr>\n",
       "    <tr>\n",
       "      <th>4</th>\n",
       "      <td>1.0</td>\n",
       "      <td>0.0</td>\n",
       "      <td>1.0</td>\n",
       "      <td>0.0</td>\n",
       "      <td>40.0</td>\n",
       "      <td>63777.777778</td>\n",
       "    </tr>\n",
       "    <tr>\n",
       "      <th>5</th>\n",
       "      <td>0.0</td>\n",
       "      <td>1.0</td>\n",
       "      <td>0.0</td>\n",
       "      <td>0.0</td>\n",
       "      <td>35.0</td>\n",
       "      <td>58000.0</td>\n",
       "    </tr>\n",
       "    <tr>\n",
       "      <th>6</th>\n",
       "      <td>1.0</td>\n",
       "      <td>0.0</td>\n",
       "      <td>0.0</td>\n",
       "      <td>1.0</td>\n",
       "      <td>38.777778</td>\n",
       "      <td>52000.0</td>\n",
       "    </tr>\n",
       "    <tr>\n",
       "      <th>7</th>\n",
       "      <td>0.0</td>\n",
       "      <td>1.0</td>\n",
       "      <td>0.0</td>\n",
       "      <td>0.0</td>\n",
       "      <td>48.0</td>\n",
       "      <td>79000.0</td>\n",
       "    </tr>\n",
       "    <tr>\n",
       "      <th>8</th>\n",
       "      <td>1.0</td>\n",
       "      <td>0.0</td>\n",
       "      <td>1.0</td>\n",
       "      <td>0.0</td>\n",
       "      <td>50.0</td>\n",
       "      <td>83000.0</td>\n",
       "    </tr>\n",
       "    <tr>\n",
       "      <th>9</th>\n",
       "      <td>0.0</td>\n",
       "      <td>1.0</td>\n",
       "      <td>0.0</td>\n",
       "      <td>0.0</td>\n",
       "      <td>37.0</td>\n",
       "      <td>67000.0</td>\n",
       "    </tr>\n",
       "  </tbody>\n",
       "</table>\n",
       "</div>"
      ],
      "text/plain": [
       "     0    1    2    3          4             5\n",
       "0  0.0  1.0  0.0  0.0       44.0       72000.0\n",
       "1  1.0  0.0  0.0  1.0       27.0       48000.0\n",
       "2  1.0  0.0  1.0  0.0       30.0       54000.0\n",
       "3  1.0  0.0  0.0  1.0       38.0       61000.0\n",
       "4  1.0  0.0  1.0  0.0       40.0  63777.777778\n",
       "5  0.0  1.0  0.0  0.0       35.0       58000.0\n",
       "6  1.0  0.0  0.0  1.0  38.777778       52000.0\n",
       "7  0.0  1.0  0.0  0.0       48.0       79000.0\n",
       "8  1.0  0.0  1.0  0.0       50.0       83000.0\n",
       "9  0.0  1.0  0.0  0.0       37.0       67000.0"
      ]
     },
     "execution_count": 40,
     "metadata": {},
     "output_type": "execute_result"
    }
   ],
   "source": [
    "from sklearn.compose import ColumnTransformer\n",
    "from sklearn.preprocessing import OneHotEncoder\n",
    "\n",
    "ct = ColumnTransformer(transformers= [('encoder', OneHotEncoder(), [0])], remainder='passthrough') # Apply one hot encoding to the first column (index 0) and keep the rest of the columns as they are\n",
    "X = np.array(ct.fit_transform(X)) # Transform the data and convert it to a numpy array\n",
    "\n",
    "pd.DataFrame(X)"
   ]
  },
  {
   "cell_type": "markdown",
   "id": "a0891b1a",
   "metadata": {},
   "source": [
    "Para la variable dependiente $y$ (Purchased) usaremos la codificación **LabelEncoder**, que lo que hace es asignar un número a cada categoría de la columna. En este caso, como solo tenemos 2 categorías, no hay problema en usar esta codificación."
   ]
  },
  {
   "cell_type": "code",
   "execution_count": 36,
   "id": "85ad8b9a",
   "metadata": {},
   "outputs": [
    {
     "data": {
      "text/plain": [
       "array([0, 1, 0, 0, 1, 1, 0, 1, 0, 1])"
      ]
     },
     "execution_count": 36,
     "metadata": {},
     "output_type": "execute_result"
    }
   ],
   "source": [
    "from sklearn.preprocessing import LabelEncoder\n",
    "\n",
    "le = LabelEncoder() # Create a label encoder object\n",
    "y = le.fit_transform(y) # Fit the label encoder on the target variable and transform it\n",
    "y"
   ]
  },
  {
   "cell_type": "markdown",
   "id": "ba3d1c49",
   "metadata": {},
   "source": [
    "### Dividr el dataframe en conjuntos de entrenamiento y testeo\n",
    "\n",
    "Se hace una división para estos dos conjuntos: entrenamiento y testeo, para evitar overfiting y poner a prueba el modelo con datos que no ha visto antes."
   ]
  },
  {
   "cell_type": "code",
   "execution_count": 37,
   "id": "e88fcfea",
   "metadata": {},
   "outputs": [
    {
     "data": {
      "text/plain": [
       "(array([[0.0, 1.0, 0.0, 50.0, 83000.0],\n",
       "        [1.0, 0.0, 0.0, 48.0, 79000.0],\n",
       "        [1.0, 0.0, 0.0, 35.0, 58000.0],\n",
       "        [0.0, 0.0, 1.0, 38.77777777777778, 52000.0],\n",
       "        [0.0, 0.0, 1.0, 27.0, 48000.0],\n",
       "        [1.0, 0.0, 0.0, 44.0, 72000.0],\n",
       "        [0.0, 0.0, 1.0, 38.0, 61000.0],\n",
       "        [0.0, 1.0, 0.0, 30.0, 54000.0]], dtype=object),\n",
       " array([[1.0, 0.0, 0.0, 37.0, 67000.0],\n",
       "        [0.0, 1.0, 0.0, 40.0, 63777.77777777778]], dtype=object),\n",
       " array([0, 1, 1, 0, 1, 0, 0, 0]),\n",
       " array([1, 1]))"
      ]
     },
     "execution_count": 37,
     "metadata": {},
     "output_type": "execute_result"
    }
   ],
   "source": [
    "from sklearn.model_selection import train_test_split\n",
    "\n",
    "X_train, X_test, y_train, y_test = train_test_split(X, y, test_size= 0.2, random_state= 24) # Split the data into training and testing sets (80% train, 20% test) with a random state for reproducibility\n",
    "\n",
    "X_train, X_test, y_train, y_test"
   ]
  },
  {
   "cell_type": "markdown",
   "id": "abf1834f",
   "metadata": {},
   "source": [
    "### Escalar datos\n",
    "\n",
    "Esta parte se realiza para que todos los datos se puedan comparar de una manera optima entre sí, por ejemplo las columnas de valores que tienen cantidades grandes como es el sueldo, necesitan ser comparadas matematicamente con las columnas de valores pequeños como la edad. Para ello se escalan los datos, es decir, se les aplica una transformación para que todos los datos estén en la misma escala."
   ]
  },
  {
   "cell_type": "code",
   "execution_count": 39,
   "id": "dbeb4640",
   "metadata": {},
   "outputs": [
    {
     "data": {
      "application/vnd.microsoft.datawrangler.viewer.v0+json": {
       "columns": [
        {
         "name": "index",
         "rawType": "int64",
         "type": "integer"
        },
        {
         "name": "0",
         "rawType": "float64",
         "type": "float"
        },
        {
         "name": "1",
         "rawType": "float64",
         "type": "float"
        },
        {
         "name": "2",
         "rawType": "float64",
         "type": "float"
        },
        {
         "name": "3",
         "rawType": "float64",
         "type": "float"
        },
        {
         "name": "4",
         "rawType": "float64",
         "type": "float"
        }
       ],
       "conversionMethod": "pd.DataFrame",
       "ref": "5ff7266a-081e-4e3a-b082-4a33338d05cb",
       "rows": [
        [
         "0",
         "-0.7745966692414835",
         "1.7320508075688774",
         "-0.7745966692414835",
         "1.4568177403267561",
         "1.607826949235844"
        ],
        [
         "1",
         "1.2909944487358058",
         "-0.5773502691896258",
         "-0.7745966692414835",
         "1.19557022524948",
         "1.2801169977992388"
        ],
        [
         "2",
         "1.2909944487358058",
         "-0.5773502691896258",
         "-0.7745966692414835",
         "-0.5025386227528164",
         "-0.44036024724293815"
        ],
        [
         "3",
         "-0.7745966692414835",
         "-0.5773502691896258",
         "1.2909944487358058",
         "-0.009071094273516473",
         "-0.9319251743978458"
        ],
        [
         "4",
         "-0.7745966692414835",
         "-0.5773502691896258",
         "1.2909944487358058",
         "-1.547528683061922",
         "-1.2596351258344511"
        ],
        [
         "5",
         "1.2909944487358058",
         "-0.5773502691896258",
         "-0.7745966692414835",
         "0.6730751950949273",
         "0.7066245827851798"
        ],
        [
         "6",
         "-0.7745966692414835",
         "-0.5773502691896258",
         "1.2909944487358058",
         "-0.11066735013690182",
         "-0.19457778366548428"
        ],
        [
         "7",
         "-0.7745966692414835",
         "1.7320508075688774",
         "-0.7745966692414835",
         "-1.1556574104460073",
         "-0.7680701986795433"
        ]
       ],
       "shape": {
        "columns": 5,
        "rows": 8
       }
      },
      "text/html": [
       "<div>\n",
       "<style scoped>\n",
       "    .dataframe tbody tr th:only-of-type {\n",
       "        vertical-align: middle;\n",
       "    }\n",
       "\n",
       "    .dataframe tbody tr th {\n",
       "        vertical-align: top;\n",
       "    }\n",
       "\n",
       "    .dataframe thead th {\n",
       "        text-align: right;\n",
       "    }\n",
       "</style>\n",
       "<table border=\"1\" class=\"dataframe\">\n",
       "  <thead>\n",
       "    <tr style=\"text-align: right;\">\n",
       "      <th></th>\n",
       "      <th>0</th>\n",
       "      <th>1</th>\n",
       "      <th>2</th>\n",
       "      <th>3</th>\n",
       "      <th>4</th>\n",
       "    </tr>\n",
       "  </thead>\n",
       "  <tbody>\n",
       "    <tr>\n",
       "      <th>0</th>\n",
       "      <td>-0.774597</td>\n",
       "      <td>1.732051</td>\n",
       "      <td>-0.774597</td>\n",
       "      <td>1.456818</td>\n",
       "      <td>1.607827</td>\n",
       "    </tr>\n",
       "    <tr>\n",
       "      <th>1</th>\n",
       "      <td>1.290994</td>\n",
       "      <td>-0.577350</td>\n",
       "      <td>-0.774597</td>\n",
       "      <td>1.195570</td>\n",
       "      <td>1.280117</td>\n",
       "    </tr>\n",
       "    <tr>\n",
       "      <th>2</th>\n",
       "      <td>1.290994</td>\n",
       "      <td>-0.577350</td>\n",
       "      <td>-0.774597</td>\n",
       "      <td>-0.502539</td>\n",
       "      <td>-0.440360</td>\n",
       "    </tr>\n",
       "    <tr>\n",
       "      <th>3</th>\n",
       "      <td>-0.774597</td>\n",
       "      <td>-0.577350</td>\n",
       "      <td>1.290994</td>\n",
       "      <td>-0.009071</td>\n",
       "      <td>-0.931925</td>\n",
       "    </tr>\n",
       "    <tr>\n",
       "      <th>4</th>\n",
       "      <td>-0.774597</td>\n",
       "      <td>-0.577350</td>\n",
       "      <td>1.290994</td>\n",
       "      <td>-1.547529</td>\n",
       "      <td>-1.259635</td>\n",
       "    </tr>\n",
       "    <tr>\n",
       "      <th>5</th>\n",
       "      <td>1.290994</td>\n",
       "      <td>-0.577350</td>\n",
       "      <td>-0.774597</td>\n",
       "      <td>0.673075</td>\n",
       "      <td>0.706625</td>\n",
       "    </tr>\n",
       "    <tr>\n",
       "      <th>6</th>\n",
       "      <td>-0.774597</td>\n",
       "      <td>-0.577350</td>\n",
       "      <td>1.290994</td>\n",
       "      <td>-0.110667</td>\n",
       "      <td>-0.194578</td>\n",
       "    </tr>\n",
       "    <tr>\n",
       "      <th>7</th>\n",
       "      <td>-0.774597</td>\n",
       "      <td>1.732051</td>\n",
       "      <td>-0.774597</td>\n",
       "      <td>-1.155657</td>\n",
       "      <td>-0.768070</td>\n",
       "    </tr>\n",
       "  </tbody>\n",
       "</table>\n",
       "</div>"
      ],
      "text/plain": [
       "          0         1         2         3         4\n",
       "0 -0.774597  1.732051 -0.774597  1.456818  1.607827\n",
       "1  1.290994 -0.577350 -0.774597  1.195570  1.280117\n",
       "2  1.290994 -0.577350 -0.774597 -0.502539 -0.440360\n",
       "3 -0.774597 -0.577350  1.290994 -0.009071 -0.931925\n",
       "4 -0.774597 -0.577350  1.290994 -1.547529 -1.259635\n",
       "5  1.290994 -0.577350 -0.774597  0.673075  0.706625\n",
       "6 -0.774597 -0.577350  1.290994 -0.110667 -0.194578\n",
       "7 -0.774597  1.732051 -0.774597 -1.155657 -0.768070"
      ]
     },
     "execution_count": 39,
     "metadata": {},
     "output_type": "execute_result"
    }
   ],
   "source": [
    "from sklearn.preprocessing import StandardScaler\n",
    "\n",
    "sc = StandardScaler() # Create a standard scaler object\n",
    "X_train = sc.fit_transform(X_train) # Fit the scaler on the training data and transform it\n",
    "X_test = sc.transform(X_test) # Transform the testing data using the same scaler\n",
    "\n",
    "pd.DataFrame(X_train)"
   ]
  },
  {
   "cell_type": "markdown",
   "id": "01fe1a8a",
   "metadata": {},
   "source": [
    "En este caso, no estandarizaremos nuestro vector columna $y$ que representa la variable indpendiente puesto que este algoritmo es para una categorización binaria y no es necesario. En caso de que fuera una categorización múltiple, si que sería necesario estandarizarlo."
   ]
  }
 ],
 "metadata": {
  "kernelspec": {
   "display_name": "venv",
   "language": "python",
   "name": "python3"
  },
  "language_info": {
   "codemirror_mode": {
    "name": "ipython",
    "version": 3
   },
   "file_extension": ".py",
   "mimetype": "text/x-python",
   "name": "python",
   "nbconvert_exporter": "python",
   "pygments_lexer": "ipython3",
   "version": "3.12.7"
  }
 },
 "nbformat": 4,
 "nbformat_minor": 5
}
