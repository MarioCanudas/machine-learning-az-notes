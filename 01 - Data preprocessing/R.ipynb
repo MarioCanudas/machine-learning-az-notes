{
 "cells": [
  {
   "cell_type": "markdown",
   "id": "a6812175",
   "metadata": {},
   "source": [
    "### Importar dataset"
   ]
  },
  {
   "cell_type": "code",
   "execution_count": 10,
   "id": "ea213216",
   "metadata": {
    "vscode": {
     "languageId": "r"
    }
   },
   "outputs": [
    {
     "data": {
      "text/html": [
       "<table class=\"dataframe\">\n",
       "<caption>A data.frame: 10 × 4</caption>\n",
       "<thead>\n",
       "\t<tr><th scope=col>Country</th><th scope=col>Age</th><th scope=col>Salary</th><th scope=col>Purchased</th></tr>\n",
       "\t<tr><th scope=col>&lt;chr&gt;</th><th scope=col>&lt;int&gt;</th><th scope=col>&lt;int&gt;</th><th scope=col>&lt;chr&gt;</th></tr>\n",
       "</thead>\n",
       "<tbody>\n",
       "\t<tr><td>France </td><td>44</td><td>72000</td><td>No </td></tr>\n",
       "\t<tr><td>Spain  </td><td>27</td><td>48000</td><td>Yes</td></tr>\n",
       "\t<tr><td>Germany</td><td>30</td><td>54000</td><td>No </td></tr>\n",
       "\t<tr><td>Spain  </td><td>38</td><td>61000</td><td>No </td></tr>\n",
       "\t<tr><td>Germany</td><td>40</td><td>   NA</td><td>Yes</td></tr>\n",
       "\t<tr><td>France </td><td>35</td><td>58000</td><td>Yes</td></tr>\n",
       "\t<tr><td>Spain  </td><td>NA</td><td>52000</td><td>No </td></tr>\n",
       "\t<tr><td>France </td><td>48</td><td>79000</td><td>Yes</td></tr>\n",
       "\t<tr><td>Germany</td><td>50</td><td>83000</td><td>No </td></tr>\n",
       "\t<tr><td>France </td><td>37</td><td>67000</td><td>Yes</td></tr>\n",
       "</tbody>\n",
       "</table>\n"
      ],
      "text/latex": [
       "A data.frame: 10 × 4\n",
       "\\begin{tabular}{llll}\n",
       " Country & Age & Salary & Purchased\\\\\n",
       " <chr> & <int> & <int> & <chr>\\\\\n",
       "\\hline\n",
       "\t France  & 44 & 72000 & No \\\\\n",
       "\t Spain   & 27 & 48000 & Yes\\\\\n",
       "\t Germany & 30 & 54000 & No \\\\\n",
       "\t Spain   & 38 & 61000 & No \\\\\n",
       "\t Germany & 40 &    NA & Yes\\\\\n",
       "\t France  & 35 & 58000 & Yes\\\\\n",
       "\t Spain   & NA & 52000 & No \\\\\n",
       "\t France  & 48 & 79000 & Yes\\\\\n",
       "\t Germany & 50 & 83000 & No \\\\\n",
       "\t France  & 37 & 67000 & Yes\\\\\n",
       "\\end{tabular}\n"
      ],
      "text/markdown": [
       "\n",
       "A data.frame: 10 × 4\n",
       "\n",
       "| Country &lt;chr&gt; | Age &lt;int&gt; | Salary &lt;int&gt; | Purchased &lt;chr&gt; |\n",
       "|---|---|---|---|\n",
       "| France  | 44 | 72000 | No  |\n",
       "| Spain   | 27 | 48000 | Yes |\n",
       "| Germany | 30 | 54000 | No  |\n",
       "| Spain   | 38 | 61000 | No  |\n",
       "| Germany | 40 |    NA | Yes |\n",
       "| France  | 35 | 58000 | Yes |\n",
       "| Spain   | NA | 52000 | No  |\n",
       "| France  | 48 | 79000 | Yes |\n",
       "| Germany | 50 | 83000 | No  |\n",
       "| France  | 37 | 67000 | Yes |\n",
       "\n"
      ],
      "text/plain": [
       "   Country Age Salary Purchased\n",
       "1  France  44  72000  No       \n",
       "2  Spain   27  48000  Yes      \n",
       "3  Germany 30  54000  No       \n",
       "4  Spain   38  61000  No       \n",
       "5  Germany 40     NA  Yes      \n",
       "6  France  35  58000  Yes      \n",
       "7  Spain   NA  52000  No       \n",
       "8  France  48  79000  Yes      \n",
       "9  Germany 50  83000  No       \n",
       "10 France  37  67000  Yes      "
      ]
     },
     "metadata": {},
     "output_type": "display_data"
    }
   ],
   "source": [
    "df <- read.csv(\"Data.csv\")\n",
    "df"
   ]
  },
  {
   "cell_type": "markdown",
   "id": "d910dde2",
   "metadata": {},
   "source": [
    "### Tratar valores nulos\n",
    "\n",
    "Se pueden tomar diferentes estrategias para manejar esta situación:\n",
    "1. Eliminar las filas en las que se encuentran datos vacios. Una opción muy drástica y poco usada puesto que, al menos de que la fila venga vacía o casi, aún así aporta algo de información util para lo que estamos estudiando.\n",
    "2. Sustituir los valores vacíos por medidas de localización de los datos, como la media, moda o mediana de la fila. Es la más usada y la que aprenderemos a hacer."
   ]
  },
  {
   "cell_type": "code",
   "execution_count": 16,
   "id": "2753af5e",
   "metadata": {
    "vscode": {
     "languageId": "r"
    }
   },
   "outputs": [
    {
     "data": {
      "text/html": [
       "<table class=\"dataframe\">\n",
       "<caption>A data.frame: 10 × 4</caption>\n",
       "<thead>\n",
       "\t<tr><th scope=col>Country</th><th scope=col>Age</th><th scope=col>Salary</th><th scope=col>Purchased</th></tr>\n",
       "\t<tr><th scope=col>&lt;chr&gt;</th><th scope=col>&lt;dbl&gt;</th><th scope=col>&lt;dbl&gt;</th><th scope=col>&lt;chr&gt;</th></tr>\n",
       "</thead>\n",
       "<tbody>\n",
       "\t<tr><td>France </td><td>44.00000</td><td>72000.00</td><td>No </td></tr>\n",
       "\t<tr><td>Spain  </td><td>27.00000</td><td>48000.00</td><td>Yes</td></tr>\n",
       "\t<tr><td>Germany</td><td>30.00000</td><td>54000.00</td><td>No </td></tr>\n",
       "\t<tr><td>Spain  </td><td>38.00000</td><td>61000.00</td><td>No </td></tr>\n",
       "\t<tr><td>Germany</td><td>40.00000</td><td>63777.78</td><td>Yes</td></tr>\n",
       "\t<tr><td>France </td><td>35.00000</td><td>58000.00</td><td>Yes</td></tr>\n",
       "\t<tr><td>Spain  </td><td>38.77778</td><td>52000.00</td><td>No </td></tr>\n",
       "\t<tr><td>France </td><td>48.00000</td><td>79000.00</td><td>Yes</td></tr>\n",
       "\t<tr><td>Germany</td><td>50.00000</td><td>83000.00</td><td>No </td></tr>\n",
       "\t<tr><td>France </td><td>37.00000</td><td>67000.00</td><td>Yes</td></tr>\n",
       "</tbody>\n",
       "</table>\n"
      ],
      "text/latex": [
       "A data.frame: 10 × 4\n",
       "\\begin{tabular}{llll}\n",
       " Country & Age & Salary & Purchased\\\\\n",
       " <chr> & <dbl> & <dbl> & <chr>\\\\\n",
       "\\hline\n",
       "\t France  & 44.00000 & 72000.00 & No \\\\\n",
       "\t Spain   & 27.00000 & 48000.00 & Yes\\\\\n",
       "\t Germany & 30.00000 & 54000.00 & No \\\\\n",
       "\t Spain   & 38.00000 & 61000.00 & No \\\\\n",
       "\t Germany & 40.00000 & 63777.78 & Yes\\\\\n",
       "\t France  & 35.00000 & 58000.00 & Yes\\\\\n",
       "\t Spain   & 38.77778 & 52000.00 & No \\\\\n",
       "\t France  & 48.00000 & 79000.00 & Yes\\\\\n",
       "\t Germany & 50.00000 & 83000.00 & No \\\\\n",
       "\t France  & 37.00000 & 67000.00 & Yes\\\\\n",
       "\\end{tabular}\n"
      ],
      "text/markdown": [
       "\n",
       "A data.frame: 10 × 4\n",
       "\n",
       "| Country &lt;chr&gt; | Age &lt;dbl&gt; | Salary &lt;dbl&gt; | Purchased &lt;chr&gt; |\n",
       "|---|---|---|---|\n",
       "| France  | 44.00000 | 72000.00 | No  |\n",
       "| Spain   | 27.00000 | 48000.00 | Yes |\n",
       "| Germany | 30.00000 | 54000.00 | No  |\n",
       "| Spain   | 38.00000 | 61000.00 | No  |\n",
       "| Germany | 40.00000 | 63777.78 | Yes |\n",
       "| France  | 35.00000 | 58000.00 | Yes |\n",
       "| Spain   | 38.77778 | 52000.00 | No  |\n",
       "| France  | 48.00000 | 79000.00 | Yes |\n",
       "| Germany | 50.00000 | 83000.00 | No  |\n",
       "| France  | 37.00000 | 67000.00 | Yes |\n",
       "\n"
      ],
      "text/plain": [
       "   Country Age      Salary   Purchased\n",
       "1  France  44.00000 72000.00 No       \n",
       "2  Spain   27.00000 48000.00 Yes      \n",
       "3  Germany 30.00000 54000.00 No       \n",
       "4  Spain   38.00000 61000.00 No       \n",
       "5  Germany 40.00000 63777.78 Yes      \n",
       "6  France  35.00000 58000.00 Yes      \n",
       "7  Spain   38.77778 52000.00 No       \n",
       "8  France  48.00000 79000.00 Yes      \n",
       "9  Germany 50.00000 83000.00 No       \n",
       "10 France  37.00000 67000.00 Yes      "
      ]
     },
     "metadata": {},
     "output_type": "display_data"
    }
   ],
   "source": [
    "df$Age = ifelse(is.na(df$Age), mean(df$Age, na.rm = TRUE), df$Age)\n",
    "df$Salary = ifelse(is.na(df$Salary), mean(df$Salary, na.rm = TRUE), df$Salary)\n",
    "\n",
    "df"
   ]
  },
  {
   "cell_type": "markdown",
   "id": "483e9e23",
   "metadata": {},
   "source": [
    "### Tratar con datos categoricos\n",
    "\n",
    "Para ambos casos se usa la función `factor()` de R, que convierte una variable en un factor. Un factor es una variable categórica que puede tomar un número limitado y fijo de valores. En este caso, la función `factor()` se usa para convertir las variables categóricas en factores, **lo que permite a R tratarlas como variables categóricas en lugar de numéricas**. Esto es útil para el análisis estadístico y la visualización de datos, ya que permite a R manejar correctamente las variables categóricas."
   ]
  },
  {
   "cell_type": "code",
   "execution_count": 19,
   "id": "6d7a6e52",
   "metadata": {
    "vscode": {
     "languageId": "r"
    }
   },
   "outputs": [
    {
     "data": {
      "text/html": [
       "<table class=\"dataframe\">\n",
       "<caption>A data.frame: 10 × 4</caption>\n",
       "<thead>\n",
       "\t<tr><th scope=col>Country</th><th scope=col>Age</th><th scope=col>Salary</th><th scope=col>Purchased</th></tr>\n",
       "\t<tr><th scope=col>&lt;fct&gt;</th><th scope=col>&lt;dbl&gt;</th><th scope=col>&lt;dbl&gt;</th><th scope=col>&lt;fct&gt;</th></tr>\n",
       "</thead>\n",
       "<tbody>\n",
       "\t<tr><td>1</td><td>44.00000</td><td>72000.00</td><td>1</td></tr>\n",
       "\t<tr><td>2</td><td>27.00000</td><td>48000.00</td><td>2</td></tr>\n",
       "\t<tr><td>3</td><td>30.00000</td><td>54000.00</td><td>1</td></tr>\n",
       "\t<tr><td>2</td><td>38.00000</td><td>61000.00</td><td>1</td></tr>\n",
       "\t<tr><td>3</td><td>40.00000</td><td>63777.78</td><td>2</td></tr>\n",
       "\t<tr><td>1</td><td>35.00000</td><td>58000.00</td><td>2</td></tr>\n",
       "\t<tr><td>2</td><td>38.77778</td><td>52000.00</td><td>1</td></tr>\n",
       "\t<tr><td>1</td><td>48.00000</td><td>79000.00</td><td>2</td></tr>\n",
       "\t<tr><td>3</td><td>50.00000</td><td>83000.00</td><td>1</td></tr>\n",
       "\t<tr><td>1</td><td>37.00000</td><td>67000.00</td><td>2</td></tr>\n",
       "</tbody>\n",
       "</table>\n"
      ],
      "text/latex": [
       "A data.frame: 10 × 4\n",
       "\\begin{tabular}{llll}\n",
       " Country & Age & Salary & Purchased\\\\\n",
       " <fct> & <dbl> & <dbl> & <fct>\\\\\n",
       "\\hline\n",
       "\t 1 & 44.00000 & 72000.00 & 1\\\\\n",
       "\t 2 & 27.00000 & 48000.00 & 2\\\\\n",
       "\t 3 & 30.00000 & 54000.00 & 1\\\\\n",
       "\t 2 & 38.00000 & 61000.00 & 1\\\\\n",
       "\t 3 & 40.00000 & 63777.78 & 2\\\\\n",
       "\t 1 & 35.00000 & 58000.00 & 2\\\\\n",
       "\t 2 & 38.77778 & 52000.00 & 1\\\\\n",
       "\t 1 & 48.00000 & 79000.00 & 2\\\\\n",
       "\t 3 & 50.00000 & 83000.00 & 1\\\\\n",
       "\t 1 & 37.00000 & 67000.00 & 2\\\\\n",
       "\\end{tabular}\n"
      ],
      "text/markdown": [
       "\n",
       "A data.frame: 10 × 4\n",
       "\n",
       "| Country &lt;fct&gt; | Age &lt;dbl&gt; | Salary &lt;dbl&gt; | Purchased &lt;fct&gt; |\n",
       "|---|---|---|---|\n",
       "| 1 | 44.00000 | 72000.00 | 1 |\n",
       "| 2 | 27.00000 | 48000.00 | 2 |\n",
       "| 3 | 30.00000 | 54000.00 | 1 |\n",
       "| 2 | 38.00000 | 61000.00 | 1 |\n",
       "| 3 | 40.00000 | 63777.78 | 2 |\n",
       "| 1 | 35.00000 | 58000.00 | 2 |\n",
       "| 2 | 38.77778 | 52000.00 | 1 |\n",
       "| 1 | 48.00000 | 79000.00 | 2 |\n",
       "| 3 | 50.00000 | 83000.00 | 1 |\n",
       "| 1 | 37.00000 | 67000.00 | 2 |\n",
       "\n"
      ],
      "text/plain": [
       "   Country Age      Salary   Purchased\n",
       "1  1       44.00000 72000.00 1        \n",
       "2  2       27.00000 48000.00 2        \n",
       "3  3       30.00000 54000.00 1        \n",
       "4  2       38.00000 61000.00 1        \n",
       "5  3       40.00000 63777.78 2        \n",
       "6  1       35.00000 58000.00 2        \n",
       "7  2       38.77778 52000.00 1        \n",
       "8  1       48.00000 79000.00 2        \n",
       "9  3       50.00000 83000.00 1        \n",
       "10 1       37.00000 67000.00 2        "
      ]
     },
     "metadata": {},
     "output_type": "display_data"
    }
   ],
   "source": [
    "df$Country = factor(df$Country, levels = unique(df$Country), labels = 1:length(unique(df$Country)))\n",
    "df$Purchased = factor(df$Purchased, levels = unique(df$Purchased), labels = 1:length(unique(df$Purchased)))\n",
    "df"
   ]
  },
  {
   "cell_type": "markdown",
   "id": "419b6136",
   "metadata": {},
   "source": [
    "### Dividr el dataframe en conjuntos de entrenamiento y testeo"
   ]
  },
  {
   "cell_type": "code",
   "execution_count": 27,
   "id": "723c4964",
   "metadata": {
    "vscode": {
     "languageId": "r"
    }
   },
   "outputs": [
    {
     "data": {
      "text/html": [
       "<table class=\"dataframe\">\n",
       "<caption>A data.frame: 8 × 4</caption>\n",
       "<thead>\n",
       "\t<tr><th></th><th scope=col>Country</th><th scope=col>Age</th><th scope=col>Salary</th><th scope=col>Purchased</th></tr>\n",
       "\t<tr><th></th><th scope=col>&lt;fct&gt;</th><th scope=col>&lt;dbl&gt;</th><th scope=col>&lt;dbl&gt;</th><th scope=col>&lt;fct&gt;</th></tr>\n",
       "</thead>\n",
       "<tbody>\n",
       "\t<tr><th scope=row>1</th><td>1</td><td>44.00000</td><td>72000.00</td><td>1</td></tr>\n",
       "\t<tr><th scope=row>4</th><td>2</td><td>38.00000</td><td>61000.00</td><td>1</td></tr>\n",
       "\t<tr><th scope=row>5</th><td>3</td><td>40.00000</td><td>63777.78</td><td>2</td></tr>\n",
       "\t<tr><th scope=row>6</th><td>1</td><td>35.00000</td><td>58000.00</td><td>2</td></tr>\n",
       "\t<tr><th scope=row>7</th><td>2</td><td>38.77778</td><td>52000.00</td><td>1</td></tr>\n",
       "\t<tr><th scope=row>8</th><td>1</td><td>48.00000</td><td>79000.00</td><td>2</td></tr>\n",
       "\t<tr><th scope=row>9</th><td>3</td><td>50.00000</td><td>83000.00</td><td>1</td></tr>\n",
       "\t<tr><th scope=row>10</th><td>1</td><td>37.00000</td><td>67000.00</td><td>2</td></tr>\n",
       "</tbody>\n",
       "</table>\n"
      ],
      "text/latex": [
       "A data.frame: 8 × 4\n",
       "\\begin{tabular}{r|llll}\n",
       "  & Country & Age & Salary & Purchased\\\\\n",
       "  & <fct> & <dbl> & <dbl> & <fct>\\\\\n",
       "\\hline\n",
       "\t1 & 1 & 44.00000 & 72000.00 & 1\\\\\n",
       "\t4 & 2 & 38.00000 & 61000.00 & 1\\\\\n",
       "\t5 & 3 & 40.00000 & 63777.78 & 2\\\\\n",
       "\t6 & 1 & 35.00000 & 58000.00 & 2\\\\\n",
       "\t7 & 2 & 38.77778 & 52000.00 & 1\\\\\n",
       "\t8 & 1 & 48.00000 & 79000.00 & 2\\\\\n",
       "\t9 & 3 & 50.00000 & 83000.00 & 1\\\\\n",
       "\t10 & 1 & 37.00000 & 67000.00 & 2\\\\\n",
       "\\end{tabular}\n"
      ],
      "text/markdown": [
       "\n",
       "A data.frame: 8 × 4\n",
       "\n",
       "| <!--/--> | Country &lt;fct&gt; | Age &lt;dbl&gt; | Salary &lt;dbl&gt; | Purchased &lt;fct&gt; |\n",
       "|---|---|---|---|---|\n",
       "| 1 | 1 | 44.00000 | 72000.00 | 1 |\n",
       "| 4 | 2 | 38.00000 | 61000.00 | 1 |\n",
       "| 5 | 3 | 40.00000 | 63777.78 | 2 |\n",
       "| 6 | 1 | 35.00000 | 58000.00 | 2 |\n",
       "| 7 | 2 | 38.77778 | 52000.00 | 1 |\n",
       "| 8 | 1 | 48.00000 | 79000.00 | 2 |\n",
       "| 9 | 3 | 50.00000 | 83000.00 | 1 |\n",
       "| 10 | 1 | 37.00000 | 67000.00 | 2 |\n",
       "\n"
      ],
      "text/plain": [
       "   Country Age      Salary   Purchased\n",
       "1  1       44.00000 72000.00 1        \n",
       "4  2       38.00000 61000.00 1        \n",
       "5  3       40.00000 63777.78 2        \n",
       "6  1       35.00000 58000.00 2        \n",
       "7  2       38.77778 52000.00 1        \n",
       "8  1       48.00000 79000.00 2        \n",
       "9  3       50.00000 83000.00 1        \n",
       "10 1       37.00000 67000.00 2        "
      ]
     },
     "metadata": {},
     "output_type": "display_data"
    }
   ],
   "source": [
    "library(caTools)\n",
    "\n",
    "split = sample.split(df$Purchased, SplitRatio = 0.8)\n",
    "training_set = subset(df, split == TRUE)\n",
    "test_set = subset(df, split == FALSE)\n",
    "\n",
    "training_set"
   ]
  },
  {
   "cell_type": "code",
   "execution_count": 28,
   "id": "0db3194e",
   "metadata": {
    "vscode": {
     "languageId": "r"
    }
   },
   "outputs": [
    {
     "data": {
      "text/html": [
       "<table class=\"dataframe\">\n",
       "<caption>A data.frame: 2 × 4</caption>\n",
       "<thead>\n",
       "\t<tr><th></th><th scope=col>Country</th><th scope=col>Age</th><th scope=col>Salary</th><th scope=col>Purchased</th></tr>\n",
       "\t<tr><th></th><th scope=col>&lt;fct&gt;</th><th scope=col>&lt;dbl&gt;</th><th scope=col>&lt;dbl&gt;</th><th scope=col>&lt;fct&gt;</th></tr>\n",
       "</thead>\n",
       "<tbody>\n",
       "\t<tr><th scope=row>2</th><td>2</td><td>27</td><td>48000</td><td>2</td></tr>\n",
       "\t<tr><th scope=row>3</th><td>3</td><td>30</td><td>54000</td><td>1</td></tr>\n",
       "</tbody>\n",
       "</table>\n"
      ],
      "text/latex": [
       "A data.frame: 2 × 4\n",
       "\\begin{tabular}{r|llll}\n",
       "  & Country & Age & Salary & Purchased\\\\\n",
       "  & <fct> & <dbl> & <dbl> & <fct>\\\\\n",
       "\\hline\n",
       "\t2 & 2 & 27 & 48000 & 2\\\\\n",
       "\t3 & 3 & 30 & 54000 & 1\\\\\n",
       "\\end{tabular}\n"
      ],
      "text/markdown": [
       "\n",
       "A data.frame: 2 × 4\n",
       "\n",
       "| <!--/--> | Country &lt;fct&gt; | Age &lt;dbl&gt; | Salary &lt;dbl&gt; | Purchased &lt;fct&gt; |\n",
       "|---|---|---|---|---|\n",
       "| 2 | 2 | 27 | 48000 | 2 |\n",
       "| 3 | 3 | 30 | 54000 | 1 |\n",
       "\n"
      ],
      "text/plain": [
       "  Country Age Salary Purchased\n",
       "2 2       27  48000  2        \n",
       "3 3       30  54000  1        "
      ]
     },
     "metadata": {},
     "output_type": "display_data"
    }
   ],
   "source": [
    "test_set"
   ]
  },
  {
   "cell_type": "markdown",
   "id": "babf297d",
   "metadata": {},
   "source": [
    "### Escalar datos"
   ]
  },
  {
   "cell_type": "code",
   "execution_count": 30,
   "id": "22aabddc",
   "metadata": {
    "vscode": {
     "languageId": "r"
    }
   },
   "outputs": [
    {
     "data": {
      "text/html": [
       "<table class=\"dataframe\">\n",
       "<caption>A data.frame: 8 × 4</caption>\n",
       "<thead>\n",
       "\t<tr><th></th><th scope=col>Country</th><th scope=col>Age</th><th scope=col>Salary</th><th scope=col>Purchased</th></tr>\n",
       "\t<tr><th></th><th scope=col>&lt;fct&gt;</th><th scope=col>&lt;dbl&gt;</th><th scope=col>&lt;dbl&gt;</th><th scope=col>&lt;fct&gt;</th></tr>\n",
       "</thead>\n",
       "<tbody>\n",
       "\t<tr><th scope=row>1</th><td>1</td><td> 0.4902310</td><td> 0.477099958</td><td>1</td></tr>\n",
       "\t<tr><th scope=row>4</th><td>2</td><td>-0.6185637</td><td>-0.566720944</td><td>1</td></tr>\n",
       "\t<tr><th scope=row>5</th><td>3</td><td>-0.2489655</td><td>-0.303129807</td><td>2</td></tr>\n",
       "\t<tr><th scope=row>6</th><td>1</td><td>-1.1729610</td><td>-0.851399372</td><td>2</td></tr>\n",
       "\t<tr><th scope=row>7</th><td>2</td><td>-0.4748311</td><td>-1.420756228</td><td>1</td></tr>\n",
       "\t<tr><th scope=row>8</th><td>1</td><td> 1.2294274</td><td> 1.141349623</td><td>2</td></tr>\n",
       "\t<tr><th scope=row>9</th><td>3</td><td> 1.5990257</td><td> 1.520920860</td><td>1</td></tr>\n",
       "\t<tr><th scope=row>10</th><td>1</td><td>-0.8033628</td><td> 0.002635911</td><td>2</td></tr>\n",
       "</tbody>\n",
       "</table>\n"
      ],
      "text/latex": [
       "A data.frame: 8 × 4\n",
       "\\begin{tabular}{r|llll}\n",
       "  & Country & Age & Salary & Purchased\\\\\n",
       "  & <fct> & <dbl> & <dbl> & <fct>\\\\\n",
       "\\hline\n",
       "\t1 & 1 &  0.4902310 &  0.477099958 & 1\\\\\n",
       "\t4 & 2 & -0.6185637 & -0.566720944 & 1\\\\\n",
       "\t5 & 3 & -0.2489655 & -0.303129807 & 2\\\\\n",
       "\t6 & 1 & -1.1729610 & -0.851399372 & 2\\\\\n",
       "\t7 & 2 & -0.4748311 & -1.420756228 & 1\\\\\n",
       "\t8 & 1 &  1.2294274 &  1.141349623 & 2\\\\\n",
       "\t9 & 3 &  1.5990257 &  1.520920860 & 1\\\\\n",
       "\t10 & 1 & -0.8033628 &  0.002635911 & 2\\\\\n",
       "\\end{tabular}\n"
      ],
      "text/markdown": [
       "\n",
       "A data.frame: 8 × 4\n",
       "\n",
       "| <!--/--> | Country &lt;fct&gt; | Age &lt;dbl&gt; | Salary &lt;dbl&gt; | Purchased &lt;fct&gt; |\n",
       "|---|---|---|---|---|\n",
       "| 1 | 1 |  0.4902310 |  0.477099958 | 1 |\n",
       "| 4 | 2 | -0.6185637 | -0.566720944 | 1 |\n",
       "| 5 | 3 | -0.2489655 | -0.303129807 | 2 |\n",
       "| 6 | 1 | -1.1729610 | -0.851399372 | 2 |\n",
       "| 7 | 2 | -0.4748311 | -1.420756228 | 1 |\n",
       "| 8 | 1 |  1.2294274 |  1.141349623 | 2 |\n",
       "| 9 | 3 |  1.5990257 |  1.520920860 | 1 |\n",
       "| 10 | 1 | -0.8033628 |  0.002635911 | 2 |\n",
       "\n"
      ],
      "text/plain": [
       "   Country Age        Salary       Purchased\n",
       "1  1        0.4902310  0.477099958 1        \n",
       "4  2       -0.6185637 -0.566720944 1        \n",
       "5  3       -0.2489655 -0.303129807 2        \n",
       "6  1       -1.1729610 -0.851399372 2        \n",
       "7  2       -0.4748311 -1.420756228 1        \n",
       "8  1        1.2294274  1.141349623 2        \n",
       "9  3        1.5990257  1.520920860 1        \n",
       "10 1       -0.8033628  0.002635911 2        "
      ]
     },
     "metadata": {},
     "output_type": "display_data"
    }
   ],
   "source": [
    "training_set[, 2:3] = scale(training_set[, 2:3])\n",
    "test_set[, 2:3] = scale(test_set[, 2:3])\n",
    "\n",
    "training_set"
   ]
  },
  {
   "cell_type": "code",
   "execution_count": 31,
   "id": "da1d5758",
   "metadata": {
    "vscode": {
     "languageId": "r"
    }
   },
   "outputs": [
    {
     "data": {
      "text/html": [
       "<table class=\"dataframe\">\n",
       "<caption>A data.frame: 2 × 4</caption>\n",
       "<thead>\n",
       "\t<tr><th></th><th scope=col>Country</th><th scope=col>Age</th><th scope=col>Salary</th><th scope=col>Purchased</th></tr>\n",
       "\t<tr><th></th><th scope=col>&lt;fct&gt;</th><th scope=col>&lt;dbl&gt;</th><th scope=col>&lt;dbl&gt;</th><th scope=col>&lt;fct&gt;</th></tr>\n",
       "</thead>\n",
       "<tbody>\n",
       "\t<tr><th scope=row>2</th><td>2</td><td>-0.7071068</td><td>-0.7071068</td><td>2</td></tr>\n",
       "\t<tr><th scope=row>3</th><td>3</td><td> 0.7071068</td><td> 0.7071068</td><td>1</td></tr>\n",
       "</tbody>\n",
       "</table>\n"
      ],
      "text/latex": [
       "A data.frame: 2 × 4\n",
       "\\begin{tabular}{r|llll}\n",
       "  & Country & Age & Salary & Purchased\\\\\n",
       "  & <fct> & <dbl> & <dbl> & <fct>\\\\\n",
       "\\hline\n",
       "\t2 & 2 & -0.7071068 & -0.7071068 & 2\\\\\n",
       "\t3 & 3 &  0.7071068 &  0.7071068 & 1\\\\\n",
       "\\end{tabular}\n"
      ],
      "text/markdown": [
       "\n",
       "A data.frame: 2 × 4\n",
       "\n",
       "| <!--/--> | Country &lt;fct&gt; | Age &lt;dbl&gt; | Salary &lt;dbl&gt; | Purchased &lt;fct&gt; |\n",
       "|---|---|---|---|---|\n",
       "| 2 | 2 | -0.7071068 | -0.7071068 | 2 |\n",
       "| 3 | 3 |  0.7071068 |  0.7071068 | 1 |\n",
       "\n"
      ],
      "text/plain": [
       "  Country Age        Salary     Purchased\n",
       "2 2       -0.7071068 -0.7071068 2        \n",
       "3 3        0.7071068  0.7071068 1        "
      ]
     },
     "metadata": {},
     "output_type": "display_data"
    }
   ],
   "source": [
    "test_set"
   ]
  }
 ],
 "metadata": {
  "kernelspec": {
   "display_name": "R",
   "language": "R",
   "name": "ir"
  },
  "language_info": {
   "codemirror_mode": "r",
   "file_extension": ".r",
   "mimetype": "text/x-r-source",
   "name": "R",
   "pygments_lexer": "r",
   "version": "4.4.2"
  }
 },
 "nbformat": 4,
 "nbformat_minor": 5
}
